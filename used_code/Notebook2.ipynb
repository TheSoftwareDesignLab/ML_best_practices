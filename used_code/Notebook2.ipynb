{
 "cells": [
  {
   "cell_type": "code",
   "execution_count": 26,
   "id": "graduate-pioneer",
   "metadata": {},
   "outputs": [],
   "source": [
    "import configparser\n",
    "from sqlalchemy import create_engine\n",
    "import pandas as pd\n",
    "import matplotlib.pyplot as plt\n",
    "import numpy as np\n",
    "\n",
    "config = configparser.ConfigParser() \n",
    "#read the database configuration which is located in a .ini file\n",
    "config.read('./config_file.ini') \n",
    "HOST = config['DATABASE']['HOST']\n",
    "DBS = config['DATABASE']['dataBase'].split(',')\n",
    "URLS = config['DATABASE']['urls'].split(',')\n",
    "user = config['DATABASE']['user']\n",
    "passwd = config['DATABASE']['passwd']"
   ]
  },
  {
   "cell_type": "code",
   "execution_count": 13,
   "id": "649177c2",
   "metadata": {},
   "outputs": [],
   "source": [
    "# Information related to the websites (Name and URI)\n",
    "web_pages = dict(zip(DBS,URLS))"
   ]
  },
  {
   "cell_type": "code",
   "execution_count": 14,
   "id": "de6b34f4",
   "metadata": {},
   "outputs": [],
   "source": [
    "def define_query_dbs_NOBP(searching_tags, type = 'accepted'):\n",
    "    \"\"\" Function for creating the query to retrieve  the useful posts from  any database besides STO not \n",
    "        taking into account the scores neither if they discuss or not best practices\n",
    "\n",
    "    Args:\n",
    "        tag (str): tag that describe which keywords are going to be used in the query\n",
    "        type (str, optional): accepted/best. Defaults to 'accepted'.\n",
    "\n",
    "    Returns:\n",
    "        query_sto (str): query that will be used to retrieve information from any database besides STO (Ignoring scores and discussion of BP)\n",
    "    \"\"\"\n",
    "    if type == 'accepted':\n",
    "    \n",
    "        query_dbs = (\n",
    "        \"select  aux.id  QID, aux.AcceptedAnswerId, aux.Title Qtitle, aux.Body QBody, aux.Score QScore, aux.Tags QTags, aux.CreationDate QCreatDate, \"\n",
    "        \"p.id  AID,  p.ParentId, p.Body ABody, p.Score AScore, p.Tags ATags, p.CreationDate ACreatDate \"\n",
    "        \"from Posts p join \"\n",
    "        \"(select * \"\n",
    "        \"from Posts pf \"\n",
    "        \"where \"\n",
    "        f\"MATCH (pf.Tags)  AGAINST ('{searching_tags}' IN BOOLEAN MODE)\"\n",
    "        \"and pf.AcceptedAnswerId  is not NULL \"\n",
    "        \"and pf.PostTypeId = 1) as aux \"\n",
    "        \"on aux.AcceptedAnswerId  = p.Id\"\n",
    "        )\n",
    "\n",
    "            \n",
    "    elif type == 'best':\n",
    "        query_dbs = (\n",
    "        \"SELECT infoQuestions.* FROM \"\n",
    "        \"(SELECT  aux.id  QID, aux.AcceptedAnswerId, aux.Title Qtitle, aux.Body QBody, aux.Score QScore, aux.Tags QTags, aux.CreationDate QCreatDate, \"\n",
    "        \"p.id  AID,  p.ParentId, p.Body ABody, p.Score AScore, p.Tags ATags, p.CreationDate ACreatDate \"\n",
    "        \"FROM Posts p JOIN \"\n",
    "        \"(SELECT * \"\n",
    "        \"FROM Posts pf \"\n",
    "        \"WHERE \"\n",
    "        f\"MATCH (pf.Tags)  AGAINST ('{searching_tags}' IN BOOLEAN MODE) \"\n",
    "        \"and pf.AcceptedAnswerId  is not NULL \"\n",
    "        \"and pf.PostTypeId = 1) as aux \"\n",
    "        \"ON aux.Id  = p.ParentId) as infoQuestions, \"\n",
    "        \"(SELECT QID, max(p.Score) MAXScore \"\n",
    "        \"FROM Posts p JOIN \"\n",
    "        \"(SELECT pf.AcceptedAnswerId, pf.Id QID  \"\n",
    "        \"FROM Posts pf \"\n",
    "        \"WHERE \"\n",
    "        f\"MATCH (pf.Tags)  AGAINST ('{searching_tags}' IN BOOLEAN MODE) \"\n",
    "        \"and pf.AcceptedAnswerId  is not NULL \"\n",
    "        \"and pf.PostTypeId = 1 ) as aux \"\n",
    "        \"ON aux.QID  = p.ParentId \" \n",
    "        \"GROUP BY QID) as maxScore \"\n",
    "        \"WHERE infoQuestions.QID = maxScore.QID AND infoQuestions.AScore =  maxScore.MAXScore\"\n",
    "        )\n",
    "            \n",
    "    else:\n",
    "        print('No query')\n",
    "        query_dbs = None\n",
    "    \n",
    "    return query_dbs"
   ]
  },
  {
   "cell_type": "code",
   "execution_count": 15,
   "id": "e9823aad",
   "metadata": {},
   "outputs": [],
   "source": [
    "def define_query_dbs_nscore(searching_tags, type = 'accepted'):\n",
    "    \"\"\" Function for creating the query to retrieve  the useful posts from  any database besides STO not \n",
    "        taking into account the scores\n",
    "\n",
    "    Args:\n",
    "        tag (str): tag that describe which keywords are going to be used in the query\n",
    "        type (str, optional): accepted/best. Defaults to 'accepted'.\n",
    "\n",
    "    Returns:\n",
    "        query_sto (str): query that will be used to retrieve information from any database besides STO (Ignoring scores)\n",
    "    \"\"\"\n",
    "\n",
    "    if type == 'accepted':\n",
    "    \n",
    "        query_dbs = (\n",
    "        \"select  aux.id  QID, aux.AcceptedAnswerId, aux.Title Qtitle, aux.Body QBody, aux.Score QScore, aux.Tags QTags, aux.CreationDate QCreatDate, \"\n",
    "        \"p.id  AID,  p.ParentId, p.Body ABody, p.Score AScore, p.Tags ATags, p.CreationDate ACreatDate \"\n",
    "        \"from Posts p join \"\n",
    "        \"(select * \"\n",
    "        \"from Posts pf \"\n",
    "        \"where MATCH (pf.Body,pf.Title)  AGAINST ('\\\"best practice\\\" \\\"best practices\\\" \\\"good practice\\\"  \\\"good practices\\\"' IN BOOLEAN MODE) \"\n",
    "        f\"and MATCH (pf.Tags)  AGAINST ('{searching_tags}' IN BOOLEAN MODE)\"\n",
    "        \"and pf.AcceptedAnswerId  is not NULL \"\n",
    "        \"and pf.PostTypeId = 1) as aux \"\n",
    "        \"on aux.AcceptedAnswerId  = p.Id\"\n",
    "            )\n",
    "       \n",
    "    elif type == 'best':\n",
    "        \n",
    "        query_dbs = (\n",
    "        \"SELECT infoQuestions.* FROM \"\n",
    "        \"(SELECT  aux.id  QID, aux.AcceptedAnswerId, aux.Title Qtitle, aux.Body QBody, aux.Score QScore, aux.Tags QTags, aux.CreationDate QCreatDate, \"\n",
    "        \"p.id  AID,  p.ParentId, p.Body ABody, p.Score AScore, p.Tags ATags, p.CreationDate ACreatDate \"\n",
    "        \"FROM Posts p JOIN \"\n",
    "        \"(SELECT * \"\n",
    "        \"FROM Posts pf \"\n",
    "        \"WHERE MATCH (pf.Body,pf.Title)  AGAINST ('\\\"best practice\\\" \\\"best practices\\\" \\\"good practice\\\" \\\"good practices\\\" ' IN BOOLEAN MODE) \"\n",
    "        \"and pf.AcceptedAnswerId  is not NULL \"\n",
    "        \"and pf.PostTypeId = 1) as aux \"\n",
    "        \"ON aux.Id  = p.ParentId) as infoQuestions, \"\n",
    "        \"(SELECT QID, max(p.Score) MAXScore \"\n",
    "        \"FROM Posts p JOIN \"\n",
    "        \"(SELECT pf.AcceptedAnswerId, pf.Id QID  \"\n",
    "        \"FROM Posts pf \"\n",
    "        \"WHERE MATCH (pf.Body,pf.Title)  AGAINST ('\\\"best practice\\\" \\\"best practices\\\" \\\"good practice\\\" \\\"good practices\\\"' IN BOOLEAN MODE) \"\n",
    "        f\"and MATCH (pf.Tags)  AGAINST ('{searching_tags}' IN BOOLEAN MODE) \"\n",
    "        \"and pf.AcceptedAnswerId  is not NULL \"\n",
    "        \"and pf.PostTypeId = 1 ) as aux \"\n",
    "        \"ON aux.QID  = p.ParentId \" \n",
    "        \"GROUP BY QID) as maxScore \"\n",
    "        \"WHERE infoQuestions.QID = maxScore.QID AND infoQuestions.AScore =  maxScore.MAXScore\"\n",
    "        )\n",
    "            \n",
    "    else:\n",
    "        print('No query')\n",
    "        query_dbs = None\n",
    "    \n",
    "    return query_dbs"
   ]
  },
  {
   "cell_type": "code",
   "execution_count": 16,
   "id": "e347fe9f",
   "metadata": {},
   "outputs": [],
   "source": [
    "def define_STO_query_NOBP( tag, type = 'accepted'):\n",
    "    \"\"\" Function for creating the query to retrieve  the useful posts from StackOverflow  not \n",
    "        taking into account the scores neither if they discuss or not best practices\n",
    "\n",
    "    Args:\n",
    "        tag (str): tag that describe which keywords are going to be used in the query, this defines a specific database, \n",
    "        due to the size of STO partial tables were created.\n",
    "        type (str, optional): accepted/best. Defaults to 'accepted'.\n",
    "\n",
    "    Returns:\n",
    "        query_sto (str): query that will be used to retrieve information from STO (ignoring scores and discussion of BP))\n",
    "    \"\"\"\n",
    "\n",
    "    databases_sto = {'\\\"machine-learning\\\"': 'PostsQuestionsFilteredNoScore'}\n",
    "    selected_db = databases_sto[tag]\n",
    "    \n",
    "    if type == 'accepted':\n",
    "    \n",
    "        query_sto = (\n",
    "        \"select  aux.id  QID, aux.AcceptedAnswerId, aux.Title Qtitle, aux.Body QBody, aux.Score QScore, aux.Tags QTags, aux.CreationDate QCreatDate, \"\n",
    "        \"p.id  AID,  p.ParentId, p.Body ABody, p.Score AScore, p.Tags ATags, p.CreationDate ACreatDate \"\n",
    "        \"from PostsAnswersFilteredNoScoreML p join \"\n",
    "        \"(select * \"\n",
    "        f\"from {selected_db} pf \"\n",
    "        \"where \"\n",
    "        \"pf.AcceptedAnswerId  is not NULL) as aux \"\n",
    "        \"on aux.AcceptedAnswerId  = p.Id\"\n",
    "        )\n",
    "            \n",
    "    elif type == 'best':\n",
    "        \n",
    "        query_sto = (\n",
    "        \"SELECT infoQuestions.* FROM \"\n",
    "        \"(SELECT  aux.id  QID, aux.AcceptedAnswerId, aux.Title Qtitle, aux.Body QBody, aux.Score QScore, aux.Tags QTags, aux.CreationDate QCreatDate, \"\n",
    "        \"p.id  AID,  p.ParentId, p.Body ABody, p.Score AScore, p.Tags ATags, p.CreationDate ACreatDate \"\n",
    "        \"FROM PostsAnswersFilteredNoScoreML p JOIN \"\n",
    "        \"(SELECT * \"\n",
    "        f\"FROM {selected_db} pf \"\n",
    "        \"WHERE  \"\n",
    "        \"pf.AcceptedAnswerId  is not NULL) as aux \"\n",
    "        \"ON aux.Id  = p.ParentId) as infoQuestions, \"\n",
    "        \"(SELECT QID, max(p.Score) MAXScore \"\n",
    "        \"FROM PostsAnswersFilteredNoScoreML p JOIN \"\n",
    "        \"(SELECT pf.AcceptedAnswerId, pf.Id QID \" \n",
    "        f\"FROM {selected_db} pf \"\n",
    "        \"WHERE \"\n",
    "        \" pf.AcceptedAnswerId  is not NULL) as aux \"\n",
    "        \"ON aux.QID  = p.ParentId \"\n",
    "        \"GROUP BY QID) as maxScore \"\n",
    "        \"WHERE infoQuestions.QID = maxScore.QID AND infoQuestions.AScore =  maxScore.MAXScore\"\n",
    "        )\n",
    "            \n",
    "    else:\n",
    "        print('NO QUERY')\n",
    "        query_sto = None\n",
    "\n",
    "    return query_sto"
   ]
  },
  {
   "cell_type": "code",
   "execution_count": 17,
   "id": "8ab829ef",
   "metadata": {},
   "outputs": [],
   "source": [
    "def define_STO_query_nscore( tag, type = 'accepted'):\n",
    "    \"\"\" Function for creating the query to retrieve  the useful posts from StackOverflow  not \n",
    "        taking into account the scores\n",
    "\n",
    "    Args:\n",
    "        tag (str): tag that describe which keywords are going to be used in the query, this defines a specific database, \n",
    "        due to the size of STO partial tables were created.\n",
    "        type (str, optional): accepted/best. Defaults to 'accepted'.\n",
    "\n",
    "    Returns:\n",
    "        query_sto (str): query that will be used to retrieve information from STO (ignoring scores)\n",
    "    \"\"\"\n",
    "\n",
    "    databases_sto = {'\\\"machine-learning\\\"': 'PostsQuestionsFilteredNoScore'}\n",
    "    selected_db = databases_sto[tag]\n",
    "    \n",
    "    if type == 'accepted':\n",
    "    \n",
    "        query_sto = (\n",
    "        \"select  aux.id  QID, aux.AcceptedAnswerId, aux.Title Qtitle, aux.Body QBody, aux.Score QScore, aux.Tags QTags, aux.CreationDate QCreatDate, \"\n",
    "        \"p.id  AID,  p.ParentId, p.Body ABody, p.Score AScore, p.Tags ATags, p.CreationDate ACreatDate \"\n",
    "        \"from PostsAnswersFilteredNoScoreML p join \"\n",
    "        \"(select * \"\n",
    "        f\"from {selected_db} pf \"\n",
    "        \"where MATCH (pf.Body,pf.Title)  AGAINST ('\\\"best practice\\\" \\\"best practices\\\" \\\"good practice\\\"  \\\"good practices\\\"' IN BOOLEAN MODE) \"\n",
    "        \"and pf.AcceptedAnswerId  is not NULL) as aux \"\n",
    "        \"on aux.AcceptedAnswerId  = p.Id\"\n",
    "        )\n",
    "            \n",
    "    elif type == 'best':\n",
    "        \n",
    "        query_sto = (\n",
    "        \"SELECT infoQuestions.* FROM \"\n",
    "        \"(SELECT  aux.id  QID, aux.AcceptedAnswerId, aux.Title Qtitle, aux.Body QBody, aux.Score QScore, aux.Tags QTags, aux.CreationDate QCreatDate, \"\n",
    "        \"p.id  AID,  p.ParentId, p.Body ABody, p.Score AScore, p.Tags ATags, p.CreationDate ACreatDate \"\n",
    "        \"FROM PostsAnswersFilteredNoScoreML p JOIN \"\n",
    "        \"(SELECT * \"\n",
    "        f\"FROM {selected_db} pf \"\n",
    "        \"WHERE MATCH (pf.Body,pf.Title)  AGAINST ('\\\"best practice\\\"  \\\"best practices\\\" \\\"good practice\\\"  \\\"good practices\\\"' IN BOOLEAN MODE) \"\n",
    "        \"and pf.AcceptedAnswerId  is not NULL) as aux \"\n",
    "        \"ON aux.Id  = p.ParentId) as infoQuestions, \"\n",
    "        \"(SELECT QID, max(p.Score) MAXScore \"\n",
    "        \"FROM PostsAnswersFilteredNoScoreML p JOIN \"\n",
    "        \"(SELECT pf.AcceptedAnswerId, pf.Id QID \" \n",
    "        f\"FROM {selected_db} pf \"\n",
    "        \"WHERE MATCH (pf.Body,pf.Title)  AGAINST ('\\\"best practice\\\" \\\"best practices\\\" \\\"good practice\\\" \\\"good practices\\\"' IN BOOLEAN MODE) \"\n",
    "        \" and pf.AcceptedAnswerId  is not NULL) as aux \"\n",
    "        \"ON aux.QID  = p.ParentId \"\n",
    "        \"GROUP BY QID) as maxScore \"\n",
    "        \"WHERE infoQuestions.QID = maxScore.QID AND infoQuestions.AScore =  maxScore.MAXScore\"\n",
    "        )\n",
    "            \n",
    "    else:\n",
    "        print('NO QUERY')\n",
    "        query_sto = None\n",
    "\n",
    "    return query_sto"
   ]
  },
  {
   "cell_type": "code",
   "execution_count": 18,
   "id": "2babe16f",
   "metadata": {},
   "outputs": [],
   "source": [
    "def get_answers(web_pages, query,query2='', ans_type='best', verbose = True):\n",
    "    \"\"\"Function that is used to obtain all the best voted or accepted answers for a question in  the 14 STE sites\n",
    "\n",
    "    Args:\n",
    "        web_pages (list): list of tuples, (name database, url)\n",
    "        query (str): Query to retrieve information that is not used in StackOverflow.\n",
    "        query2 (str, optional): StackOverflow query (due to in STO partial tables were created because of the sizeos STO). Defaults to ''.\n",
    "        ans_type (str, optional): string that allow to differentiate in the data between accepted vs most voted. Defaults to 'best'.\n",
    "        verbose (bool, optional): Flag for printing details of the process. Defaults to True.\n",
    "\n",
    "    Returns:\n",
    "        DataFrame: DataFrame that contains all the possible relevant posts for the study \n",
    "    \"\"\"\n",
    "        \n",
    "    list_dfs = []\n",
    "    for db, web_site in web_pages.items():\n",
    "        sqlEngine  = create_engine(f'mysql+pymysql://{user}:{passwd}@{HOST}/{db}', pool_recycle=3600)\n",
    "        dbConnection = sqlEngine.connect()\n",
    "        \n",
    "        if 'https://stackoverflow.com' not in web_site:\n",
    "            if verbose:\n",
    "                print(db)\n",
    "            df2 = pd.read_sql(query, dbConnection)\n",
    "            \n",
    "            if verbose:\n",
    "                print(df2.shape)\n",
    "\n",
    "        else:\n",
    "            if verbose:\n",
    "                print(db)\n",
    "            df2 = pd.read_sql(query2, dbConnection)\n",
    "            \n",
    "            if verbose:\n",
    "                print(df2.shape) \n",
    "\n",
    "        df2['base_url'] = web_pages[db]\n",
    "        df2['type'] = ans_type\n",
    "        list_dfs.append(df2)\n",
    "\n",
    "        dbConnection.close()\n",
    "    result = pd.concat(list_dfs)\n",
    "    return result"
   ]
  },
  {
   "cell_type": "code",
   "execution_count": 19,
   "id": "7fe8d993",
   "metadata": {},
   "outputs": [],
   "source": [
    "    \n",
    "def cleaning_answers(df_best, df_accepted, verbose = True):\n",
    "    \"\"\"Functions for cleaning questions and answers duplicates.\n",
    "\n",
    "    Args:\n",
    "        df_best (DataFrame): DataFrame with the most voted answer per selected question\n",
    "        df_accepted (DataFrame): DataFrame with the accepted answer per selected question\n",
    "        verbose (bool, optional): Variable that control the print statements, in order to give information of the size of the datafrmaes. Defaults to True.\n",
    "\n",
    "    Returns:\n",
    "        whole_posts (DataFrame): complete set of pairs including duplicates\n",
    "        question_unique (DataFrames): Dataframe of the questions associated to each unique answer\n",
    "        answers_positive (DataFrame): Datframe of unique answers\n",
    "    \"\"\"\n",
    "    \n",
    "    #set urls for question and answers\n",
    "    df_accepted['url_question'] = df_accepted['base_url'] + df_accepted['QID'].apply(str)\n",
    "    df_accepted['url_AcceptedAns'] = df_accepted['base_url'] + df_accepted['AcceptedAnswerId'].apply(str)\n",
    "    df_best['url_question'] = df_best['base_url'] + df_best['QID'].apply(str)\n",
    "    df_best['url_AcceptedAns'] = df_best['base_url'] + df_best['AcceptedAnswerId'].apply(str)\n",
    "\n",
    "    all_posts = pd.concat([df_accepted, df_best])\n",
    "    \n",
    "    if verbose:\n",
    "        print('The total rows are (all posts)', all_posts.shape)\n",
    "    \n",
    "    # delete answers that are both the best answer and the accepted answer (duplicates)\n",
    "    non_duplicated_posts = all_posts.drop_duplicates(subset =['QID', 'AcceptedAnswerId', 'Qtitle', 'QBody', 'QScore', 'QTags',\n",
    "        'QCreatDate', 'AID', 'ParentId', 'ABody', 'AScore', 'ATags',\n",
    "        'ACreatDate', 'base_url'], keep='first')\n",
    "    \n",
    "    if verbose:\n",
    "        print('The total rows after deleting duplicates are (all posts)', non_duplicated_posts.shape)\n",
    "        \n",
    "    # split info related to questions\n",
    "    questions_posts= non_duplicated_posts[['QID', 'AcceptedAnswerId', 'Qtitle', 'QBody', 'QScore', 'QTags', 'url_question']]\n",
    "    # split info related to answers\n",
    "    answers_posts= non_duplicated_posts[['AID','ParentId', 'AcceptedAnswerId', 'ABody', 'AScore', 'ATags', 'url_AcceptedAns','type']]  \n",
    "    \n",
    "    \n",
    "    # retrieve only the data that is related to answers and has a positive score (greater than 0)\n",
    "    answers_positive = answers_posts.copy()\n",
    "\n",
    "    if verbose:\n",
    "        print('The total rows with all scores are (answers)', answers_positive.shape)\n",
    "    #answers_positive= answers_positive[answers_positive.AScore>0]\n",
    "    \n",
    "    if verbose:\n",
    "        print('The total rows with positive score are (answers)', answers_positive.shape)\n",
    "    \n",
    "    question_unique = questions_posts.drop_duplicates(subset =['QID', 'AcceptedAnswerId', 'Qtitle', 'QBody', 'QScore', 'QTags',\n",
    "       'url_question'], keep='first')\n",
    "    \n",
    "    if verbose:\n",
    "        print('The total unique number of question are (questions)', question_unique.shape)\n",
    "        \n",
    "    #whole_posts = non_duplicated_posts[(non_duplicated_posts.AScore>0)]\n",
    "    whole_posts = non_duplicated_posts\n",
    "\n",
    "    \n",
    "    return whole_posts, question_unique, answers_positive\n",
    "        "
   ]
  },
  {
   "cell_type": "code",
   "execution_count": 9,
   "id": "8771bc70",
   "metadata": {},
   "outputs": [
    {
     "name": "stdout",
     "output_type": "stream",
     "text": [
      "The total rows are (all posts) (43303, 17)\n",
      "The total rows after deleting duplicates are (all posts) (23464, 17)\n",
      "The total rows with all scores are (answers) (23464, 8)\n",
      "The total rows with positive score are (answers) (23464, 8)\n",
      "The total unique number of question are (questions) (20965, 7)\n"
     ]
    },
    {
     "data": {
      "text/plain": [
       "((20965, 7), (23464, 8))"
      ]
     },
     "execution_count": 9,
     "metadata": {},
     "output_type": "execute_result"
    }
   ],
   "source": [
    "# Information. Retrieving information (questions and answers) from the databases ignoring  BP and SCORES \n",
    "\n",
    "accepted_question_ml = define_query_dbs_NOBP('\\\"machine-learning\\\"', type = 'accepted')\n",
    "accepted_question_ml_sto = define_STO_query_NOBP( '\\\"machine-learning\\\"', type = 'accepted')\n",
    "all_accepted_NOBP = get_answers(web_pages, accepted_question_ml, accepted_question_ml_sto, \"accepted\", verbose= False)\n",
    "\n",
    "best_question_ml = define_query_dbs_NOBP('\\\"machine-learning\\\"', type = 'best')\n",
    "best_question_ml_sto = define_STO_query_NOBP( '\\\"machine-learning\\\"', type = 'best')\n",
    "all_best_answers_NOBP= get_answers(web_pages, best_question_ml, best_question_ml_sto, \"best\", verbose= False)\n",
    "\n",
    "_, df_nobp_questions, df_nobp_answers =  cleaning_answers(all_best_answers_NOBP, all_accepted_NOBP, verbose = True)\n",
    "\n",
    "df_nobp_questions.shape, df_nobp_answers.shape"
   ]
  },
  {
   "cell_type": "code",
   "execution_count": 10,
   "id": "043db49f",
   "metadata": {},
   "outputs": [],
   "source": [
    "# Convert scores into numbers (objects -> numbers)\n",
    "df_nobp_questions['QScore'] = df_nobp_questions['QScore'].astype('int')\n",
    "df_nobp_answers['AScore'] = df_nobp_answers['AScore'].astype('int')"
   ]
  },
  {
   "cell_type": "code",
   "execution_count": 20,
   "id": "af7ca404",
   "metadata": {},
   "outputs": [
    {
     "name": "stdout",
     "output_type": "stream",
     "text": [
      "The total rows are (all posts) (249, 17)\n",
      "The total rows after deleting duplicates are (all posts) (134, 17)\n",
      "The total rows with all scores are (answers) (134, 8)\n",
      "The total rows with positive score are (answers) (134, 8)\n",
      "The total unique number of question are (questions) (122, 7)\n"
     ]
    },
    {
     "data": {
      "text/plain": [
       "((122, 7), (134, 8))"
      ]
     },
     "execution_count": 20,
     "metadata": {},
     "output_type": "execute_result"
    }
   ],
   "source": [
    "# Information. Retrieving information (questions and answers) just ignoring scores\n",
    "\n",
    "accepted_question_ml = define_query_dbs_nscore('\\\"machine-learning\\\"', type = 'accepted')\n",
    "accepted_question_ml_sto = define_STO_query_nscore( '\\\"machine-learning\\\"', type = 'accepted')\n",
    "original_accepted = get_answers(web_pages, accepted_question_ml, accepted_question_ml_sto, \"accepted\", verbose= False)\n",
    "\n",
    "best_question_ml = define_query_dbs_nscore('\\\"machine-learning\\\"', type = 'best')\n",
    "best_question_ml_sto = define_STO_query_nscore( '\\\"machine-learning\\\"', type = 'best')\n",
    "original_best_answers= get_answers(web_pages, best_question_ml, best_question_ml_sto, \"best\", verbose= False)\n",
    "\n",
    "_, df_original_questions, df_original_answers =  cleaning_answers(original_best_answers, original_accepted, verbose = True)\n",
    "\n",
    "df_original_questions.shape, df_original_answers.shape"
   ]
  },
  {
   "cell_type": "code",
   "execution_count": 21,
   "id": "4e3381ce",
   "metadata": {},
   "outputs": [],
   "source": [
    "# Convert scores into numbers (objects -> numbers)\n",
    "df_original_questions['QScore'] = df_original_questions['QScore'].astype('int')\n",
    "df_original_answers['AScore'] = df_original_answers['AScore'].astype('int')"
   ]
  },
  {
   "attachments": {},
   "cell_type": "markdown",
   "id": "ca08d01a",
   "metadata": {},
   "source": [
    "### Plots that are/are not in the paper \n",
    "* Plots and data related to posts without taking into account BP are not presented in the paper\n",
    "* Plots (boxplots) and data related to the posts that are just ignoring scores are present in the paper"
   ]
  },
  {
   "attachments": {},
   "cell_type": "markdown",
   "id": "2fcf4e7d",
   "metadata": {},
   "source": [
    "#### Ignoring BP and scores"
   ]
  },
  {
   "cell_type": "code",
   "execution_count": 22,
   "id": "04dfe916",
   "metadata": {},
   "outputs": [
    {
     "data": {
      "text/plain": [
       "count    20965.000000\n",
       "mean         4.914143\n",
       "std         16.198002\n",
       "min         -6.000000\n",
       "25%          1.000000\n",
       "50%          2.000000\n",
       "75%          4.000000\n",
       "max        862.000000\n",
       "Name: QScore, dtype: float64"
      ]
     },
     "execution_count": 22,
     "metadata": {},
     "output_type": "execute_result"
    }
   ],
   "source": [
    "df_nobp_questions['QScore'].describe()"
   ]
  },
  {
   "cell_type": "code",
   "execution_count": 23,
   "id": "49df6e18",
   "metadata": {},
   "outputs": [
    {
     "data": {
      "text/plain": [
       "count    23464.000000\n",
       "mean         5.442380\n",
       "std         20.562391\n",
       "min         -7.000000\n",
       "25%          1.000000\n",
       "50%          2.000000\n",
       "75%          4.000000\n",
       "max       1436.000000\n",
       "Name: AScore, dtype: float64"
      ]
     },
     "execution_count": 23,
     "metadata": {},
     "output_type": "execute_result"
    }
   ],
   "source": [
    "df_nobp_answers['AScore'].describe()"
   ]
  },
  {
   "attachments": {},
   "cell_type": "markdown",
   "id": "88bed117",
   "metadata": {},
   "source": [
    "#### Just ignoring scores"
   ]
  },
  {
   "cell_type": "code",
   "execution_count": 24,
   "id": "7802fa3d",
   "metadata": {},
   "outputs": [
    {
     "data": {
      "text/plain": [
       "count    122.000000\n",
       "mean       7.327869\n",
       "std       18.476003\n",
       "min       -2.000000\n",
       "25%        1.000000\n",
       "50%        3.000000\n",
       "75%        6.000000\n",
       "max      164.000000\n",
       "Name: QScore, dtype: float64"
      ]
     },
     "execution_count": 24,
     "metadata": {},
     "output_type": "execute_result"
    }
   ],
   "source": [
    "df_original_questions['QScore'].describe()"
   ]
  },
  {
   "cell_type": "code",
   "execution_count": 25,
   "id": "b53cebf6",
   "metadata": {},
   "outputs": [
    {
     "data": {
      "text/plain": [
       "count    134.000000\n",
       "mean       6.850746\n",
       "std       15.163028\n",
       "min        0.000000\n",
       "25%        1.000000\n",
       "50%        3.000000\n",
       "75%        5.000000\n",
       "max      128.000000\n",
       "Name: AScore, dtype: float64"
      ]
     },
     "execution_count": 25,
     "metadata": {},
     "output_type": "execute_result"
    }
   ],
   "source": [
    "df_original_answers['AScore'].describe()"
   ]
  },
  {
   "attachments": {},
   "cell_type": "markdown",
   "id": "34f62298",
   "metadata": {},
   "source": [
    "#### Plot the distributions of the two samples, side by side (not in paper)"
   ]
  },
  {
   "cell_type": "code",
   "execution_count": 40,
   "id": "5b5a4afe",
   "metadata": {},
   "outputs": [
    {
     "data": {
      "text/plain": [
       "(-2.0, 4.0)"
      ]
     },
     "execution_count": 40,
     "metadata": {},
     "output_type": "execute_result"
    },
    {
     "data": {
      "image/png": "[encoded data removed]",
      "text/plain": [
       "<Figure size 432x288 with 1 Axes>"
      ]
     },
     "metadata": {
      "needs_background": "light"
     },
     "output_type": "display_data"
    }
   ],
   "source": [
    "#settiing data \n",
    "\n",
    "# Save variables related to ML  post distribution without filtering by score ignoring BP\n",
    "O_answers = df_nobp_answers['AScore']\n",
    "O_questions = df_nobp_questions['QScore']\n",
    "# Save variables with the best practices post distribution without filtering by score\n",
    "n_answers = df_original_answers['AScore']\n",
    "n_questions = df_original_questions['QScore']\n",
    "\n",
    "data_nscores = [ n_answers, n_questions]\n",
    "data_nobp_nscores= [ O_answers, O_questions]\n",
    "\n",
    "# Labels on the X axis\n",
    "ticks = ['Answers', 'Questions']\n",
    "\n",
    "def box_whisker_color(bp, color):\n",
    "    \n",
    "    plt.setp(bp['whiskers'], color= color)\n",
    "    plt.setp(bp['caps'], color= color)\n",
    "    plt.setp(bp['boxes'], color= color)\n",
    "    plt.setp(bp['medians'], color= color)\n",
    "\n",
    "plt.figure()\n",
    "\n",
    "# Manualy moving the boxplots, in order to have a group box plot (g1:answers, g2:questions)\n",
    "plot_nscores = plt.boxplot(data_nscores, positions=np.array(range(len(data_nscores)))*2.0-0.4, widths=0.6, sym='', showfliers=True)\n",
    "plot_nobp_nscores = plt.boxplot(data_nobp_nscores, positions=np.array(range(len(data_nobp_nscores)))*2.0+0.4, widths=0.6, sym='', showfliers=True)\n",
    "\n",
    "# Set red color to the best practices ignoring scores and ble color for the complete set ignoring BP and scores\n",
    "box_whisker_color(plot_nscores, '#D7191C') # colors are from http://colorbrewer2.org/\n",
    "box_whisker_color(plot_nobp_nscores, '#2C7BB6')\n",
    "\n",
    "# Defining and plotting the legends \n",
    "plt.plot([], c='#D7191C', label='Best practices')\n",
    "plt.plot([], c='#2C7BB6', label='Complete')\n",
    "plt.legend()\n",
    "\n",
    "plt.xticks(range(0, len(ticks) * 2, 2), ticks)\n",
    "plt.xlim(-2, len(ticks)*2)\n",
    "\n",
    "# Save the boxplots, uncomment to save it \n",
    "#plt.savefig('boxcompare.png')\n",
    "\n",
    "# plot based on the following answer in STO\n",
    "# https://stackoverflow.com/questions/16592222/matplotlib-group-boxplots"
   ]
  },
  {
   "attachments": {},
   "cell_type": "markdown",
   "id": "0babd81c",
   "metadata": {},
   "source": [
    "#### Plot of the scores of the posts, just ignoring the score  "
   ]
  },
  {
   "cell_type": "code",
   "execution_count": 29,
   "id": "7e4002a1",
   "metadata": {},
   "outputs": [],
   "source": [
    "import seaborn as sns\n",
    "from matplotlib.ticker import StrMethodFormatter"
   ]
  },
  {
   "cell_type": "code",
   "execution_count": 51,
   "id": "b286285a",
   "metadata": {},
   "outputs": [],
   "source": [
    "# Extract just the scores of the questions and answers that discuss best practices \n",
    "n_answers = df_original_answers[['AScore']].copy()\n",
    "n_questions = df_original_questions[['QScore']].copy()\n",
    "\n",
    "n_questions.rename(columns={\"QScore\": \"Score\"}, inplace = True)\n",
    "n_answers.rename(columns={\"AScore\": \"Score\"}, inplace = True)\n",
    "\n",
    "n_questions['boxPlot'] = 'Questions'\n",
    "n_answers['boxPlot'] = 'Answers'\n",
    "\n",
    "#Cheking sizes\n",
    "n_answers.shape, n_questions.shape\n"
   ]
  },
  {
   "cell_type": "code",
   "execution_count": 60,
   "id": "095d504d",
   "metadata": {},
   "outputs": [
    {
     "data": {
      "text/plain": [
       "(256, 2)"
      ]
     },
     "execution_count": 60,
     "metadata": {},
     "output_type": "execute_result"
    }
   ],
   "source": [
    "#Cheking size after concateeting Q&A\n",
    "box_plot = pd.concat([n_answers, n_questions])\n",
    "box_plot.shape"
   ]
  },
  {
   "cell_type": "code",
   "execution_count": 61,
   "id": "7a2ac611",
   "metadata": {},
   "outputs": [
    {
     "data": {
      "image/png": "[encoded data removed]",
      "text/plain": [
       "<Figure size 432x288 with 1 Axes>"
      ]
     },
     "metadata": {},
     "output_type": "display_data"
    }
   ],
   "source": [
    "# Set ehite grid as nackground\n",
    "sns.set(style=\"whitegrid\")\n",
    "\n",
    "# Plot boxplot for the distributions of dates of the used posts (Unique questions + all answers)\n",
    "fig = sns.boxplot(y= 'boxPlot', x = 'Score', data = box_plot, showfliers=False, palette=\"muted\", boxprops=dict(alpha=.75))\n",
    "\n",
    "#moving label and ticks to the top\n",
    "fig.xaxis.set_label_position('top')\n",
    "plt.tick_params(axis='both', which='major', labelsize=12, labelbottom = False, bottom=False, top = False, labeltop=True)\n",
    "\n",
    "#Setting labels in the plot \n",
    "fig.set(ylabel = None)\n",
    "fig.set_xlabel('Score', fontsize=14)\n",
    "\n",
    "#Settiing format of 1 float number of the ticks\n",
    "fig.xaxis.set_major_formatter(StrMethodFormatter('{x:,.1f}'))\n",
    "\n",
    "plt.show()"
   ]
  }
 ],
 "metadata": {
  "interpreter": {
   "hash": "b5c7c50f7d34a2cb7385c5e2aac9eb1996f222e0139ccdeebf7ea48aed5e6717"
  },
  "kernelspec": {
   "display_name": "Python 3.8.10 64-bit ('MLStack': conda)",
   "name": "python3"
  },
  "language_info": {
   "codemirror_mode": {
    "name": "ipython",
    "version": 3
   },
   "file_extension": ".py",
   "mimetype": "text/x-python",
   "name": "python",
   "nbconvert_exporter": "python",
   "pygments_lexer": "ipython3",
   "version": "3.7.11"
  }
 },
 "nbformat": 4,
 "nbformat_minor": 5
}
