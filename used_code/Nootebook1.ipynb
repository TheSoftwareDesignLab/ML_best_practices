{
 "cells": [
  {
   "cell_type": "code",
   "execution_count": 1,
   "id": "graduate-pioneer",
   "metadata": {},
   "outputs": [],
   "source": [
    "import mysql.connector\n",
    "import configparser\n",
    "from sqlalchemy import create_engine\n",
    "import pandas as pd\n",
    "import numpy as np\n",
    "\n",
    "config = configparser.ConfigParser() \n",
    "#read the database configuration which is located in a .ini file\n",
    "config.read('./config_file.ini') \n",
    "HOST = config['DATABASE']['HOST']\n",
    "DBS = config['DATABASE']['dataBase'].split(',')\n",
    "URLS = config['DATABASE']['urls'].split(',')\n",
    "user = config['DATABASE']['user']\n",
    "passwd = config['DATABASE']['passwd']"
   ]
  },
  {
   "cell_type": "code",
   "execution_count": 2,
   "id": "649177c2",
   "metadata": {},
   "outputs": [],
   "source": [
    "# Information related to the websites (Name and URI)\n",
    "web_pages = dict(zip(DBS,URLS))"
   ]
  },
  {
   "cell_type": "code",
   "execution_count": 3,
   "id": "e9823aad",
   "metadata": {},
   "outputs": [],
   "source": [
    "def define_query_dbs(searching_tags, type = 'accepted'):\n",
    "    \"\"\" Function for creating the query to retrieve  the useful posts from  any database besides STO\n",
    "\n",
    "    Args:\n",
    "        tag (str): tag that describe which keywords are going to be used in the query\n",
    "        type (str, optional): accepted/best. Defaults to 'accepted'.\n",
    "\n",
    "    Returns:\n",
    "        query_sto (str): query that will be used to retrieve information from any database besides STO\n",
    "    \"\"\"\n",
    "    \n",
    "    \n",
    "    if type == 'accepted':\n",
    "     \n",
    "        query_dbs = (\n",
    "        \"select  aux.id  QID, aux.AcceptedAnswerId, aux.Title Qtitle, aux.Body QBody, aux.Score QScore, aux.Tags QTags, aux.CreationDate QCreatDate, \"\n",
    "        \"p.id  AID,  p.ParentId, p.Body ABody, p.Score AScore, p.Tags ATags, p.CreationDate ACreatDate \"\n",
    "        \"from Posts p join \"\n",
    "        \"(select * \"\n",
    "        \"from Posts pf \"\n",
    "        \"where MATCH (pf.Body,pf.Title)  AGAINST ('\\\"best practice\\\" \\\"best practices\\\" \\\"good practice\\\"  \\\"good practices\\\"' IN BOOLEAN MODE) \"\n",
    "        f\"and MATCH (pf.Tags)  AGAINST ('{searching_tags}' IN BOOLEAN MODE)\"\n",
    "        \"and pf.AcceptedAnswerId  is not NULL \"\n",
    "        \"and pf.PostTypeId = 1 \"\n",
    "        \"and pf.Score >0) as aux \"\n",
    "        \"on aux.AcceptedAnswerId  = p.Id\"\n",
    "        )\n",
    "            \n",
    "    elif type == 'best':\n",
    "        query_dbs = (\n",
    "        \"SELECT infoQuestions.* FROM \"\n",
    "        \"(SELECT  aux.id  QID, aux.AcceptedAnswerId, aux.Title Qtitle, aux.Body QBody, aux.Score QScore, aux.Tags QTags, aux.CreationDate QCreatDate, \"\n",
    "        \"p.id  AID,  p.ParentId, p.Body ABody, p.Score AScore, p.Tags ATags, p.CreationDate ACreatDate \"\n",
    "        \"FROM Posts p JOIN \"\n",
    "        \"(SELECT * \"\n",
    "        \"FROM Posts pf \"\n",
    "        \"WHERE MATCH (pf.Body,pf.Title)  AGAINST ('\\\"best practice\\\" \\\"best practices\\\" \\\"good practice\\\" \\\"good practices\\\" ' IN BOOLEAN MODE) \"\n",
    "        f\"and MATCH (pf.Tags)  AGAINST ('{searching_tags}' IN BOOLEAN MODE) \"\n",
    "        \"and pf.AcceptedAnswerId  is not NULL \"\n",
    "        \"and pf.PostTypeId = 1 \"\n",
    "        \"AND pf.Score >0) as aux \"\n",
    "        \"ON aux.Id  = p.ParentId) as infoQuestions, \"\n",
    "        \"(SELECT QID, max(p.Score) MAXScore \"\n",
    "        \"FROM Posts p JOIN \"\n",
    "        \"(SELECT pf.AcceptedAnswerId, pf.Id QID  \"\n",
    "        \"FROM Posts pf \"\n",
    "        \"WHERE MATCH (pf.Body,pf.Title)  AGAINST ('\\\"best practice\\\" \\\"best practices\\\" \\\"good practice\\\" \\\"good practices\\\"' IN BOOLEAN MODE) \"\n",
    "        f\"and MATCH (pf.Tags)  AGAINST ('{searching_tags}' IN BOOLEAN MODE) \"\n",
    "        \"and pf.AcceptedAnswerId  is not NULL \"\n",
    "        \"and pf.PostTypeId = 1 \"\n",
    "        \"AND pf.Score >0) as aux \"\n",
    "        \"ON aux.QID  = p.ParentId \" \n",
    "        \"GROUP BY QID) as maxScore \"\n",
    "        \"WHERE infoQuestions.QID = maxScore.QID AND infoQuestions.AScore =  maxScore.MAXScore\"\n",
    "        )\n",
    "            \n",
    "    else:\n",
    "        print('No query')\n",
    "        query_dbs = None\n",
    "    \n",
    "    return query_dbs"
   ]
  },
  {
   "cell_type": "code",
   "execution_count": 4,
   "id": "8ab829ef",
   "metadata": {},
   "outputs": [],
   "source": [
    "def define_STO_query(tag = 'machine-learning', type = 'accepted'):\n",
    "    \"\"\" Function for creating the query to retrieve  the useful posts from StackOverflow\n",
    "\n",
    "    Args:\n",
    "        tag (str): tag that describe which keywords are going to be used in the query, this defines a specific database, \n",
    "        due to the size of STO partial tables were created.\n",
    "        type (str, optional): accepted/best. Defaults to 'accepted'.\n",
    "\n",
    "    Returns:\n",
    "        query_sto (str): query that will be used to retrieve information from STO\n",
    "    \"\"\"\n",
    "\n",
    "    \n",
    "    databases_sto = {'\\\"machine-learning\\\"': 'PostsQuestionsFiltered'}\n",
    "    \n",
    "    selected_db = databases_sto[tag]\n",
    "    \n",
    "    if type == 'accepted':\n",
    "    \n",
    "        query_sto = (\n",
    "        \"select  aux.id  QID, aux.AcceptedAnswerId, aux.Title Qtitle, aux.Body QBody, aux.Score QScore, aux.Tags QTags, aux.CreationDate QCreatDate, \"\n",
    "        \"p.id  AID,  p.ParentId, p.Body ABody, p.Score AScore, p.Tags ATags, p.CreationDate ACreatDate \"\n",
    "        \"from Posts p join \"\n",
    "        \"(select * \"\n",
    "        f\"from {selected_db} pf \"\n",
    "        \"where MATCH (pf.Body,pf.Title)  AGAINST ('\\\"best practice\\\" \\\"best practices\\\" \\\"good practice\\\"  \\\"good practices\\\"' IN BOOLEAN MODE) \"\n",
    "        \"and pf.Score >0 and pf.AcceptedAnswerId  is not NULL) as aux \"\n",
    "        \"on aux.AcceptedAnswerId  = p.Id\"\n",
    "        )\n",
    "    \n",
    "            \n",
    "    elif type == 'best':\n",
    "        query_sto = (\n",
    "        \"SELECT infoQuestions.* FROM \"\n",
    "        \"(SELECT  aux.id  QID, aux.AcceptedAnswerId, aux.Title Qtitle, aux.Body QBody, aux.Score QScore, aux.Tags QTags, aux.CreationDate QCreatDate, \"\n",
    "        \"p.id  AID,  p.ParentId, p.Body ABody, p.Score AScore, p.Tags ATags, p.CreationDate ACreatDate \"\n",
    "        \"FROM Posts p JOIN \"\n",
    "        \"(SELECT * \"\n",
    "        f\"FROM {selected_db} pf \"\n",
    "        \"WHERE MATCH (pf.Body,pf.Title)  AGAINST ('\\\"best practice\\\"  \\\"best practices\\\" \\\"good practice\\\"  \\\"good practices\\\"' IN BOOLEAN MODE) \"\n",
    "        \"AND pf.Score >0 and pf.AcceptedAnswerId  is not NULL) as aux \"\n",
    "        \"ON aux.Id  = p.ParentId) as infoQuestions, \"\n",
    "        \"(SELECT QID, max(p.Score) MAXScore \"\n",
    "        \"FROM Posts p JOIN \"\n",
    "        \"(SELECT pf.AcceptedAnswerId, pf.Id QID \" \n",
    "        f\"FROM {selected_db} pf \"\n",
    "        \"WHERE MATCH (pf.Body,pf.Title)  AGAINST ('\\\"best practice\\\" \\\"best practices\\\" \\\"good practice\\\" \\\"good practices\\\"' IN BOOLEAN MODE) \"\n",
    "        \"AND pf.Score >0 and pf.AcceptedAnswerId  is not NULL) as aux \"\n",
    "        \"ON aux.QID  = p.ParentId \"\n",
    "        \"GROUP BY QID) as maxScore \"\n",
    "        \"WHERE infoQuestions.QID = maxScore.QID AND infoQuestions.AScore =  maxScore.MAXScore\"\n",
    "        )\n",
    "       \n",
    "            \n",
    "    else:\n",
    "        print('NO QUERY')\n",
    "        query_sto = None\n",
    "\n",
    "    return query_sto"
   ]
  },
  {
   "cell_type": "code",
   "execution_count": 5,
   "id": "2babe16f",
   "metadata": {},
   "outputs": [],
   "source": [
    "def get_answers(web_pages, query, query2='', ans_type='best', verbose = True):\n",
    "    \"\"\"Function that is used to obtain all the best voted or accepted answers for a question in  the 14 STE sites\n",
    "\n",
    "    Args:\n",
    "        web_pages (list): list of tuples, (name database, url)\n",
    "        query (str): Query to retrieve information that is not used in StackOverflow.\n",
    "        query2 (str, optional): StackOverflow query (due to in STO partial tables were created because of the sizeos STO). Defaults to ''.\n",
    "        ans_type (str, optional): string that allow to differentiate in the data between accepted vs most voted. Defaults to 'best'.\n",
    "        verbose (bool, optional): Flag for printing details of the process. Defaults to True.\n",
    "\n",
    "    Returns:\n",
    "        DataFrame: DataFrame that contains all the possible relevant posts for the study \n",
    "    \"\"\"\n",
    "        \n",
    "    list_dfs = []\n",
    "    for db, web_site in web_pages.items():\n",
    "        sqlEngine  = create_engine(f'mysql+pymysql://{user}:{passwd}@{HOST}/{db}', pool_recycle=3600)\n",
    "        dbConnection = sqlEngine.connect()\n",
    "        \n",
    "        if 'https://stackoverflow.com' not in web_site:\n",
    "            if verbose:\n",
    "                print(db)\n",
    "            df2 = pd.read_sql(query, dbConnection)\n",
    "            \n",
    "            if verbose:\n",
    "                print(df2.shape)\n",
    "\n",
    "        else:\n",
    "            if verbose:\n",
    "                print(db)\n",
    "            df2 = pd.read_sql(query2, dbConnection)\n",
    "            \n",
    "            if verbose:\n",
    "                print(df2.shape) \n",
    "\n",
    "        df2['base_url'] = web_pages[db]\n",
    "        df2['type'] = ans_type\n",
    "        list_dfs.append(df2)\n",
    "\n",
    "        dbConnection.close()\n",
    "    result = pd.concat(list_dfs)\n",
    "    return result"
   ]
  },
  {
   "cell_type": "code",
   "execution_count": 6,
   "id": "7fe8d993",
   "metadata": {},
   "outputs": [],
   "source": [
    "    \n",
    "def cleaning_answers(df_best, df_accepted, verbose = True):\n",
    "    \"\"\"Functions for cleaning questions and answers duplicates.\n",
    "\n",
    "    Args:\n",
    "        df_best (DataFrame): DataFrame with the most voted answer per selected question\n",
    "        df_accepted (DataFrame): DataFrame with the accepted answer per selected question\n",
    "        verbose (bool, optional): Variable that control the print statements, in order to give information of the size of the datafrmaes. Defaults to True.\n",
    "\n",
    "    Returns:\n",
    "        whole_posts (DataFrame): complete set of pairs including duplicates\n",
    "        question_unique (DataFrames): Dataframe of the questions associated to each unique answer\n",
    "        answers_positive (DataFrame): Datframe of unique answers\n",
    "    \"\"\"\n",
    "    \n",
    "    #set urls for question and answers\n",
    "    df_accepted['url_question'] = df_accepted['base_url'] + df_accepted['QID'].apply(str)\n",
    "    df_accepted['url_answer'] = df_accepted['base_url'] + df_accepted['AcceptedAnswerId'].apply(str)\n",
    "    df_best['url_question'] = df_best['base_url'] + df_best['QID'].apply(str)\n",
    "    df_best['url_answer'] = df_best['base_url'] + df_best['AID'].apply(str)\n",
    "\n",
    "    all_posts = pd.concat([df_accepted, df_best])\n",
    "    \n",
    "    if verbose:\n",
    "        print('The total rows are (all posts)', all_posts.shape)\n",
    "    \n",
    "    # delete answers that are both the best answer and the accepted answer (duplicates)\n",
    "    non_duplicated_posts = all_posts.drop_duplicates(subset =['QID', 'AcceptedAnswerId', 'Qtitle', 'QBody', 'QScore', 'QTags',\n",
    "        'QCreatDate', 'AID', 'ParentId', 'ABody', 'AScore', 'ATags',\n",
    "        'ACreatDate', 'base_url'], keep='first')\n",
    "    \n",
    "    if verbose:\n",
    "        print('The total rows after deleting duplicates are (all posts) (i.e., dublicates q&A that appeared in the best and accepted)', non_duplicated_posts.shape)\n",
    "        \n",
    "    # split info related to questions\n",
    "    questions_posts= non_duplicated_posts[['QID', 'AcceptedAnswerId', 'Qtitle', 'QBody', 'QScore', 'QTags', 'url_question', 'QCreatDate' , 'ACreatDate']]\n",
    "    # split info related to answers\n",
    "    answers_posts= non_duplicated_posts[['AID','ParentId', 'AcceptedAnswerId', 'ABody', 'AScore', 'ATags', 'url_answer','type', 'QCreatDate' , 'ACreatDate']]  \n",
    "    \n",
    "    \n",
    "    # retrieve only the data that is related to answers and has a positive score (greater than 0)\n",
    "    answers_positive = answers_posts.copy()\n",
    "\n",
    "    if verbose:\n",
    "        print('The answers rows with all scores are (answers)', answers_positive.shape)\n",
    "    answers_positive= answers_positive[answers_positive.AScore>0]\n",
    "    \n",
    "    if verbose:\n",
    "        print('The answers rows with positive score are (answers)', answers_positive.shape)\n",
    "        print('The questions with positive scores were filtered from the begining (Query)')\n",
    "        \n",
    "    if verbose:\n",
    "        print('The total  number of question', questions_posts.shape)\n",
    "    \n",
    "    question_unique = questions_posts.drop_duplicates(subset =['QID', 'AcceptedAnswerId', 'Qtitle', 'QBody', 'QScore', 'QTags',\n",
    "       'url_question'], keep='first')\n",
    "    \n",
    "    if verbose:\n",
    "        print('The total number of unique question are (questions) (remember a question can be associated to more than one ans before this step)', question_unique.shape)\n",
    "        \n",
    "    whole_posts = non_duplicated_posts[(non_duplicated_posts.AScore>0)]\n",
    "    \n",
    "    # Deleting questions that do not have Positive answers\n",
    "    join_qst_answ = question_unique.merge(answers_positive, how = 'inner', left_on = 'QID', right_on = 'ParentId',\\\n",
    "       suffixes= ['_Q', '_A'])\n",
    "    \n",
    "    question_unique = join_qst_answ[['QID', 'AcceptedAnswerId_Q', 'AID','Qtitle', 'QBody', 'QScore', 'QTags',\\\n",
    "       'url_question', 'QCreatDate_Q']]\n",
    "    answers_positive = join_qst_answ[['AID', 'ParentId', 'AcceptedAnswerId_A', 'ABody', 'AScore',\\\n",
    "       'url_answer', 'type', 'ACreatDate_A']]\n",
    "    \n",
    "    if verbose:\n",
    "        print('The total number of  question with at least one positive answer (best or accepted)', question_unique.shape)\n",
    "    \n",
    "        \n",
    "    return whole_posts, question_unique, answers_positive\n",
    "    "
   ]
  },
  {
   "cell_type": "code",
   "execution_count": 7,
   "id": "bc19efce",
   "metadata": {},
   "outputs": [
    {
     "name": "stdout",
     "output_type": "stream",
     "text": [
      "The total rows are (all posts) (241, 17)\n",
      "The total rows after deleting duplicates are (all posts) (i.e., dublicates q&A that appeared in the best and accepted) (130, 17)\n",
      "The answers rows with all scores are (answers) (130, 10)\n",
      "The answers rows with positive score are (answers) (121, 10)\n",
      "The questions with positive scores were filtered from the begining (Query)\n",
      "The total  number of question (130, 9)\n",
      "The total number of unique question are (questions) (remember a question can be associated to more than one ans before this step) (118, 9)\n",
      "The total number of  question with at least one positive answer (best or accepted) (121, 9)\n"
     ]
    },
    {
     "data": {
      "text/plain": [
       "((121, 9), (121, 8))"
      ]
     },
     "execution_count": 7,
     "metadata": {},
     "output_type": "execute_result"
    }
   ],
   "source": [
    "# Information. Retrieving information (questions and answers) from the databases\n",
    "accepted_question_ml = define_query_dbs('\\\"machine-learning\\\"', type = 'accepted')\n",
    "accepted_question_ml_sto = define_STO_query( '\\\"machine-learning\\\"', type = 'accepted')\n",
    "original_accepted = get_answers(web_pages, accepted_question_ml, accepted_question_ml_sto, \"accepted\", verbose= False)\n",
    "\n",
    "best_question_ml = define_query_dbs('\\\"machine-learning\\\"', type = 'best')\n",
    "best_question_ml_sto = define_STO_query( '\\\"machine-learning\\\"', type = 'best')\n",
    "original_best_answers= get_answers(web_pages, best_question_ml, best_question_ml_sto, \"best\", verbose= False)\n",
    "\n",
    "_, df_original_questions, df_original_answers =  cleaning_answers(original_best_answers, original_accepted, verbose = True)\n",
    "\n",
    "df_original_questions.shape, df_original_answers.shape"
   ]
  },
  {
   "attachments": {},
   "cell_type": "markdown",
   "id": "7430ae9e",
   "metadata": {},
   "source": [
    "### Clean the dataframes to export them"
   ]
  },
  {
   "cell_type": "code",
   "execution_count": 8,
   "id": "9ea5b130",
   "metadata": {},
   "outputs": [
    {
     "name": "stdout",
     "output_type": "stream",
     "text": [
      "[Qst] Columns before reaming them: Index(['QID', 'AcceptedAnswerId_Q', 'AID', 'Qtitle', 'QBody', 'QScore',\n",
      "       'QTags', 'url_question', 'QCreatDate_Q'],\n",
      "      dtype='object')\n",
      "[Qst] Columns after reaming them: Index(['QID', 'AcceptedAnswerId', 'BestAnswerId', 'Qtitle', 'QBody', 'Score',\n",
      "       'QTags', 'url_question', 'Date'],\n",
      "      dtype='object')\n",
      "[ANS] Columns before reaming them: Index(['AID', 'ParentId', 'AcceptedAnswerId_A', 'ABody', 'AScore',\n",
      "       'url_answer', 'type', 'ACreatDate_A'],\n",
      "      dtype='object')\n",
      "[ANS] Columns after reaming them: Index(['AID', 'ParentId', 'AcceptedAnswerId', 'ABody', 'Score', 'url_answer',\n",
      "       'type', 'Date'],\n",
      "      dtype='object')\n"
     ]
    }
   ],
   "source": [
    "#Rename columns\n",
    "print('[Qst] Columns before reaming them:', df_original_questions.columns)\n",
    "\n",
    "df_original_questions.rename(columns={\"QCreatDate_Q\": \"Date\"}, inplace = True)\n",
    "df_original_questions.rename(columns={\"AID\": \"BestAnswerId\"}, inplace = True)\n",
    "df_original_questions.rename(columns={\"AcceptedAnswerId_Q\": \"AcceptedAnswerId\"}, inplace = True)\n",
    "df_original_questions['QScore'] = df_original_questions['QScore'].astype('int')\n",
    "df_original_questions.rename(columns={\"QScore\": \"Score\"}, inplace = True)\n",
    "print('[Qst] Columns after reaming them:', df_original_questions.columns)\n",
    "\n",
    "print('[ANS] Columns before reaming them:', df_original_answers.columns)\n",
    "df_original_answers.rename(columns={\"ACreatDate_A\": \"Date\"}, inplace = True)\n",
    "df_original_answers.rename(columns={\"AcceptedAnswerId_A\": \"AcceptedAnswerId\"}, inplace = True)\n",
    "df_original_answers['AScore'] = df_original_answers['AScore'].astype('int')\n",
    "df_original_answers.rename(columns={\"AScore\": \"Score\"}, inplace = True)\n",
    "\n",
    "print('[ANS] Columns after reaming them:', df_original_answers.columns)\n"
   ]
  },
  {
   "cell_type": "code",
   "execution_count": 9,
   "id": "d9d76667",
   "metadata": {},
   "outputs": [
    {
     "name": "stdout",
     "output_type": "stream",
     "text": [
      "(12, 9)\n"
     ]
    }
   ],
   "source": [
    "\n",
    "# Remove missleading identifications of answeres\n",
    "#number of questions that were selected because they were the most voted and are different from the accepted answer\n",
    "print(df_original_questions[df_original_questions['BestAnswerId'] != df_original_questions['AcceptedAnswerId']].shape)\n",
    "\n",
    "# Assign a -1 for the id of the best answer for questions in which the best answer is the same as the accepted answer\n",
    "df_original_questions['BestAnswerId']  = np.where(df_original_questions['AcceptedAnswerId'] != df_original_questions['BestAnswerId'], df_original_questions['BestAnswerId'], -1)\n"
   ]
  },
  {
   "cell_type": "code",
   "execution_count": 10,
   "id": "bb74d3a0",
   "metadata": {},
   "outputs": [
    {
     "data": {
      "text/plain": [
       "(111, 9)"
      ]
     },
     "execution_count": 10,
     "metadata": {},
     "output_type": "execute_result"
    }
   ],
   "source": [
    "# Remove questions that have accepted answer and best answer. \n",
    "# In the case that a question has a most voted and an accepted answer, only keep the one that contains the id of boths\n",
    "df_original_questions.sort_values(by=['BestAnswerId'], ascending = False, inplace = True)\n",
    "df_original_questions = df_original_questions.drop_duplicates(subset =['QID', 'AcceptedAnswerId', 'Qtitle', 'QBody', 'Score', 'QTags',\n",
    "       'url_question'], keep='first')\n",
    "df_original_questions.shape"
   ]
  },
  {
   "cell_type": "code",
   "execution_count": 11,
   "id": "4a558232",
   "metadata": {},
   "outputs": [],
   "source": [
    "# Set to -1 the acepted answer for these two questions, since it has a score lower than 1 \n",
    "\n",
    "#Questions information\n",
    "df_original_questions['AcceptedAnswerId'] = np.where(df_original_questions['QID'] == 46120727, -1, df_original_questions['AcceptedAnswerId'])\n",
    "df_original_questions['AcceptedAnswerId'] = np.where(df_original_questions['QID'] == 54646785, -1, df_original_questions['AcceptedAnswerId'])\n",
    "\n",
    "#Answer information\n",
    "df_original_answers['AcceptedAnswerId'] = np.where(df_original_answers['ParentId'] == 46120727, -1, df_original_answers['AcceptedAnswerId'])\n",
    "df_original_answers['AcceptedAnswerId'] = np.where(df_original_answers['ParentId'] == 54646785, -1, df_original_answers['AcceptedAnswerId'])\n"
   ]
  },
  {
   "cell_type": "code",
   "execution_count": 12,
   "id": "5360c107",
   "metadata": {},
   "outputs": [],
   "source": [
    "# Export DataFrames\n",
    "df_original_questions.to_excel(\"questions.xlsx\", index = False)  \n",
    "df_original_answers.to_excel(\"answers.xlsx\", index = False)  "
   ]
  },
  {
   "attachments": {},
   "cell_type": "markdown",
   "id": "19bc018c",
   "metadata": {},
   "source": [
    "#### Possible figures. Not included in the paper"
   ]
  },
  {
   "cell_type": "code",
   "execution_count": 13,
   "id": "6382b638",
   "metadata": {},
   "outputs": [
    {
     "data": {
      "text/plain": [
       "count    111.000000\n",
       "mean       7.936937\n",
       "std       19.258660\n",
       "min        1.000000\n",
       "25%        1.000000\n",
       "50%        3.000000\n",
       "75%        6.000000\n",
       "max      164.000000\n",
       "Name: Score, dtype: float64"
      ]
     },
     "execution_count": 13,
     "metadata": {},
     "output_type": "execute_result"
    }
   ],
   "source": [
    "# Score questions distribution of the posts after filtering \n",
    "df_original_questions['Score'].describe()"
   ]
  },
  {
   "cell_type": "code",
   "execution_count": 14,
   "id": "1040defe",
   "metadata": {},
   "outputs": [
    {
     "data": {
      "text/plain": [
       "count    121.000000\n",
       "mean       7.553719\n",
       "std       15.800290\n",
       "min        1.000000\n",
       "25%        1.000000\n",
       "50%        4.000000\n",
       "75%        6.000000\n",
       "max      128.000000\n",
       "Name: Score, dtype: float64"
      ]
     },
     "execution_count": 14,
     "metadata": {},
     "output_type": "execute_result"
    }
   ],
   "source": [
    "# Score answer distribution of the posts after filtering \n",
    "df_original_answers['Score'].describe()"
   ]
  },
  {
   "cell_type": "code",
   "execution_count": 15,
   "id": "a437441b",
   "metadata": {},
   "outputs": [
    {
     "data": {
      "text/plain": [
       "(232, 2)"
      ]
     },
     "execution_count": 15,
     "metadata": {},
     "output_type": "execute_result"
    }
   ],
   "source": [
    "df_original_questions2 = df_original_questions[['Score']].copy()\n",
    "df_original_answers2 = df_original_answers[['Score']].copy()\n",
    "\n",
    "df_original_questions2['boxPlot'] = 'Questions'\n",
    "df_original_answers2['boxPlot'] = 'Answers'\n",
    "\n",
    "box_plot = pd.concat([df_original_questions2, df_original_answers2])\n",
    "\n",
    "box_plot.shape"
   ]
  },
  {
   "cell_type": "code",
   "execution_count": 16,
   "id": "ef61ccbd",
   "metadata": {},
   "outputs": [
    {
     "data": {
      "image/png": "[encoded data removed]",
      "text/plain": [
       "<Figure size 432x288 with 1 Axes>"
      ]
     },
     "metadata": {
      "needs_background": "light"
     },
     "output_type": "display_data"
    }
   ],
   "source": [
    "import seaborn as sns\n",
    "import matplotlib.pyplot as plt\n",
    "from matplotlib.ticker import StrMethodFormatter\n",
    "\n",
    "\n",
    "sns.set(style=\"whitegrid\")\n",
    "\n",
    "# Plot boxplot for the distributions of dates of the used posts (Unique questions + all answers)\n",
    "# Color vaiant \"muted\"\n",
    "fig = sns.boxplot(y= 'boxPlot', x = 'Score', data = box_plot, showfliers=False, palette=\"husl\", boxprops=dict(alpha=.75))\n",
    "fig.xaxis.set_label_position('top')\n",
    "fig.set(ylabel = None)\n",
    "fig.set_xlabel('Score', fontsize=14)\n",
    "plt.tick_params(axis='both', which='major', labelsize=12, labelbottom = False, bottom=False, top = False, labeltop=True)\n",
    "fig.xaxis.set_major_formatter(StrMethodFormatter('{x:,.1f}'))\n",
    "\n",
    "plt.show()"
   ]
  },
  {
   "cell_type": "code",
   "execution_count": 17,
   "id": "90915472",
   "metadata": {},
   "outputs": [],
   "source": [
    "# PLot a histogram of the dates of the used posts (Unique questions + all answers)\n",
    "dates_q = df_original_questions['Date'].values\n",
    "dates_a = df_original_answers['Date'].values\n",
    "dates = np.append(dates_q, dates_a, 0)\n"
   ]
  },
  {
   "cell_type": "code",
   "execution_count": 18,
   "id": "d05cf8f0",
   "metadata": {},
   "outputs": [
    {
     "data": {
      "text/plain": [
       "((111,), (121,), (232,))"
      ]
     },
     "execution_count": 18,
     "metadata": {},
     "output_type": "execute_result"
    }
   ],
   "source": [
    "dates_q.shape, dates_a.shape, dates.shape"
   ]
  },
  {
   "cell_type": "code",
   "execution_count": 19,
   "id": "e2047d66",
   "metadata": {},
   "outputs": [
    {
     "data": {
      "image/png": "[encoded data removed]",
      "text/plain": [
       "<Figure size 640x480 with 1 Axes>"
      ]
     },
     "metadata": {},
     "output_type": "display_data"
    }
   ],
   "source": [
    "sns.reset_defaults()\n",
    "_ = plt.hist(dates, bins='auto')  # arguments are passed to np.histogram\n",
    "plt.title(\"Histogram of the posts dates\")\n",
    "plt.show()"
   ]
  }
 ],
 "metadata": {
  "interpreter": {
   "hash": "b5c7c50f7d34a2cb7385c5e2aac9eb1996f222e0139ccdeebf7ea48aed5e6717"
  },
  "kernelspec": {
   "display_name": "Python 3.8.10 64-bit ('MLStack': conda)",
   "name": "python3"
  },
  "language_info": {
   "codemirror_mode": {
    "name": "ipython",
    "version": 3
   },
   "file_extension": ".py",
   "mimetype": "text/x-python",
   "name": "python",
   "nbconvert_exporter": "python",
   "pygments_lexer": "ipython3",
   "version": "3.7.11"
  }
 },
 "nbformat": 4,
 "nbformat_minor": 5
}
